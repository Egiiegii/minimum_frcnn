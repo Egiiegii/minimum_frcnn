{
 "cells": [
  {
   "cell_type": "code",
   "execution_count": 13,
   "metadata": {
    "collapsed": false
   },
   "outputs": [
    {
     "name": "stdout",
     "output_type": "stream",
     "text": [
      "<_io.TextIOWrapper name='./test.txt' mode='w' encoding='UTF-8'>\n",
      ".DS_Store\n",
      "00001.png\n",
      "00005.png\n",
      "00009.png\n",
      "00013.png\n",
      "00017.png\n",
      "00021.png\n",
      "00025.png\n",
      "00029.png\n",
      "00033.png\n",
      "00037.png\n",
      "00041.png\n",
      "00046.png\n",
      "00050.png\n",
      "00054.png\n",
      "00060.png\n",
      "00064.png\n",
      "00068.png\n",
      "00074.png\n",
      "00079.png\n",
      "00084.png\n",
      "00088.png\n",
      "00092.png\n",
      "00096.png\n",
      "00101.png\n",
      "00106.png\n",
      "00112.png\n",
      "00116.png\n",
      "00120.png\n",
      "00124.png\n",
      "00128.png\n",
      "00133.png\n",
      "00137.png\n",
      "00142.png\n",
      "00146.png\n",
      "00150.png\n",
      "00155.png\n",
      "00159.png\n",
      "00163.png\n",
      "00167.png\n",
      "00171.png\n",
      "00175.png\n",
      "00181.png\n",
      "00186.png\n",
      "00190.png\n",
      "00196.png\n",
      "temp_annotation\n"
     ]
    }
   ],
   "source": [
    "import os\n",
    "files = os.listdir('train=/')\n",
    "files\n",
    "f = open('./test.txt', 'w')\n",
    "print(f)\n",
    "for filename in files:\n",
    "    print(filename)\n",
    "    f.write(str(filename)[:-4]+'\\n')\n",
    "f.close()"
   ]
  },
  {
   "cell_type": "code",
   "execution_count": null,
   "metadata": {
    "collapsed": true
   },
   "outputs": [],
   "source": []
  },
  {
   "cell_type": "code",
   "execution_count": null,
   "metadata": {
    "collapsed": true
   },
   "outputs": [],
   "source": []
  },
  {
   "cell_type": "code",
   "execution_count": null,
   "metadata": {
    "collapsed": true
   },
   "outputs": [],
   "source": []
  },
  {
   "cell_type": "code",
   "execution_count": null,
   "metadata": {
    "collapsed": true
   },
   "outputs": [],
   "source": []
  }
 ],
 "metadata": {
  "kernelspec": {
   "display_name": "Python 3",
   "language": "python",
   "name": "python3"
  },
  "language_info": {
   "codemirror_mode": {
    "name": "ipython",
    "version": 3
   },
   "file_extension": ".py",
   "mimetype": "text/x-python",
   "name": "python",
   "nbconvert_exporter": "python",
   "pygments_lexer": "ipython3",
   "version": "3.6.0"
  }
 },
 "nbformat": 4,
 "nbformat_minor": 2
}
